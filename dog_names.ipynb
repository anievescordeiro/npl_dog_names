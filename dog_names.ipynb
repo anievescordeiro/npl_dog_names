{
 "cells": [
  {
   "cell_type": "code",
   "execution_count": 81,
   "metadata": {},
   "outputs": [],
   "source": [
    "import pandas as pd\n",
    "import numpy as np\n",
    "import numpy as np\n",
    "import Levenshtein as lev"
   ]
  },
  {
   "cell_type": "code",
   "execution_count": 27,
   "metadata": {},
   "outputs": [
    {
     "data": {
      "text/html": [
       "<div>\n",
       "<style scoped>\n",
       "    .dataframe tbody tr th:only-of-type {\n",
       "        vertical-align: middle;\n",
       "    }\n",
       "\n",
       "    .dataframe tbody tr th {\n",
       "        vertical-align: top;\n",
       "    }\n",
       "\n",
       "    .dataframe thead th {\n",
       "        text-align: right;\n",
       "    }\n",
       "</style>\n",
       "<table border=\"1\" class=\"dataframe\">\n",
       "  <thead>\n",
       "    <tr style=\"text-align: right;\">\n",
       "      <th></th>\n",
       "      <th>HUNDENAME</th>\n",
       "      <th>GEBURTSJAHR_HUND</th>\n",
       "      <th>GESCHLECHT_HUND</th>\n",
       "    </tr>\n",
       "  </thead>\n",
       "  <tbody>\n",
       "    <tr>\n",
       "      <th>0</th>\n",
       "      <td>Ituma</td>\n",
       "      <td>2011</td>\n",
       "      <td>w</td>\n",
       "    </tr>\n",
       "    <tr>\n",
       "      <th>1</th>\n",
       "      <td>\"Bo\" Bendy of Treegarden</td>\n",
       "      <td>2020</td>\n",
       "      <td>m</td>\n",
       "    </tr>\n",
       "    <tr>\n",
       "      <th>2</th>\n",
       "      <td>\"Bobby\" Lord Sinclair</td>\n",
       "      <td>2009</td>\n",
       "      <td>m</td>\n",
       "    </tr>\n",
       "    <tr>\n",
       "      <th>3</th>\n",
       "      <td>\"Buddy\" Fortheringhay's J.</td>\n",
       "      <td>2011</td>\n",
       "      <td>m</td>\n",
       "    </tr>\n",
       "    <tr>\n",
       "      <th>4</th>\n",
       "      <td>\"Fly\" Showring i fly for you</td>\n",
       "      <td>2015</td>\n",
       "      <td>w</td>\n",
       "    </tr>\n",
       "    <tr>\n",
       "      <th>...</th>\n",
       "      <td>...</td>\n",
       "      <td>...</td>\n",
       "      <td>...</td>\n",
       "    </tr>\n",
       "    <tr>\n",
       "      <th>8569</th>\n",
       "      <td>unbekannt</td>\n",
       "      <td>2010</td>\n",
       "      <td>w</td>\n",
       "    </tr>\n",
       "    <tr>\n",
       "      <th>8570</th>\n",
       "      <td>unbekannt</td>\n",
       "      <td>2011</td>\n",
       "      <td>m</td>\n",
       "    </tr>\n",
       "    <tr>\n",
       "      <th>8571</th>\n",
       "      <td>unbekannt</td>\n",
       "      <td>2018</td>\n",
       "      <td>m</td>\n",
       "    </tr>\n",
       "    <tr>\n",
       "      <th>8572</th>\n",
       "      <td>unbekannt</td>\n",
       "      <td>2018</td>\n",
       "      <td>m</td>\n",
       "    </tr>\n",
       "    <tr>\n",
       "      <th>8573</th>\n",
       "      <td>unbekannt</td>\n",
       "      <td>2017</td>\n",
       "      <td>m</td>\n",
       "    </tr>\n",
       "  </tbody>\n",
       "</table>\n",
       "<p>8574 rows × 3 columns</p>\n",
       "</div>"
      ],
      "text/plain": [
       "                         HUNDENAME  GEBURTSJAHR_HUND GESCHLECHT_HUND\n",
       "0                            Ituma              2011               w\n",
       "1         \"Bo\" Bendy of Treegarden              2020               m\n",
       "2            \"Bobby\" Lord Sinclair              2009               m\n",
       "3       \"Buddy\" Fortheringhay's J.              2011               m\n",
       "4     \"Fly\" Showring i fly for you              2015               w\n",
       "...                            ...               ...             ...\n",
       "8569                     unbekannt              2010               w\n",
       "8570                     unbekannt              2011               m\n",
       "8571                     unbekannt              2018               m\n",
       "8572                     unbekannt              2018               m\n",
       "8573                     unbekannt              2017               m\n",
       "\n",
       "[8574 rows x 3 columns]"
      ]
     },
     "execution_count": 27,
     "metadata": {},
     "output_type": "execute_result"
    }
   ],
   "source": [
    "# Reading the file containing the dog names as a DataFrame\n",
    "table = pd.read_csv('20210103_hundenamen.csv')\n",
    "table"
   ]
  },
  {
   "cell_type": "markdown",
   "metadata": {},
   "source": [
    "The **Levenshtein distance** is a metric to measure how apart are two sequences of words. In other words, it measures the minimum number of edits that you need to do to change a one-word sequence into the other. These edits can be insertions, deletions or substitutions.\n",
    "\n",
    "In the case of \"Dog Names\" table we need to find all names that have a **Levenshtein distance of 1** to \"Luca\" and save a file with the answer (comma-separated names, in any order)."
   ]
  },
  {
   "cell_type": "code",
   "execution_count": 79,
   "metadata": {},
   "outputs": [
    {
     "name": "stdout",
     "output_type": "stream",
     "text": [
      "['Cuca', 'Lua', 'Lua', 'Lua', 'Lua', 'Lua', 'Lua', 'Luba', 'Lucas', 'Luce', 'Luce', 'Luce', 'Lucia', 'Lucy', 'Lucy', 'Lucy', 'Lucy', 'Lucy', 'Lucy', 'Lucy', 'Lucy', 'Lucy', 'Lucy', 'Lucy', 'Lucy', 'Lucy', 'Lucy', 'Lucy', 'Lucy', 'Lucy', 'Lucy', 'Lucy', 'Lucy', 'Lucy', 'Lula', 'Lula', 'Luma', 'Luma', 'Luna', 'Luna', 'Luna', 'Luna', 'Luna', 'Luna', 'Luna', 'Luna', 'Luna', 'Luna', 'Luna', 'Luna', 'Luna', 'Luna', 'Luna', 'Luna', 'Luna', 'Luna', 'Luna', 'Luna', 'Luna', 'Luna', 'Luna', 'Luna', 'Luna', 'Luna', 'Luna', 'Luna', 'Luna', 'Luna', 'Luna', 'Luna', 'Luna', 'Luna', 'Luna', 'Luna', 'Luna', 'Luna', 'Luna', 'Luna', 'Luna', 'Luna', 'Luna', 'Luna', 'Luna', 'Luna', 'Luna', 'Luna', 'Luna', 'Luna', 'Luna', 'Luna', 'Luna', 'Luna', 'Luna', 'Luna', 'Luna', 'Luna', 'Luna', 'Luna', 'Luna', 'Luna', 'Luna', 'Luna', 'Luna', 'Luna', 'Luna', 'Luna', 'Luna', 'Luna', 'Luna', 'Luna', 'Luna', 'Luna', 'Luna', 'Luna', 'Luna', 'Luna', 'Luna', 'Luna', 'Luna', 'Luna', 'Luna', 'Luna', 'Luna', 'Luna', 'Luna', 'Luna', 'Luna', 'Luna', 'Luna', 'Luna', 'Lupa', 'Lupa', 'Lupa', 'Lupa', 'Lupa', 'Yuca']\n"
     ]
    }
   ],
   "source": [
    "lev_dist_1 = []\n",
    "\n",
    "# Adding to a list all of the names with a Levenshtein distance of 1 to \"Luca\" \n",
    "for x in range(1, len(table['HUNDENAME'])):\n",
    "    distance = lev.distance('Luca', table['HUNDENAME'][x])\n",
    "    if distance == 1:\n",
    "        lev_dist_1.append(table['HUNDENAME'][x])\n",
    "        \n",
    "print(lev_dist_1)\n"
   ]
  },
  {
   "cell_type": "markdown",
   "metadata": {},
   "source": [
    "These are all the matches found in the file with Levenshtein distance of 1 to \"Luca\", but we will keep the unique values omitting the repetitions."
   ]
  },
  {
   "cell_type": "code",
   "execution_count": 82,
   "metadata": {},
   "outputs": [
    {
     "name": "stdout",
     "output_type": "stream",
     "text": [
      "['Cuca' 'Lua' 'Luba' 'Lucas' 'Luce' 'Lucia' 'Lucy' 'Lula' 'Luma' 'Luna'\n",
      " 'Lupa' 'Yuca']\n"
     ]
    }
   ],
   "source": [
    "print(np.unique(lev_dist_1))"
   ]
  }
 ],
 "metadata": {
  "kernelspec": {
   "display_name": "Python (myenv)",
   "language": "python",
   "name": "name_of_my_env"
  },
  "language_info": {
   "codemirror_mode": {
    "name": "ipython",
    "version": 3
   },
   "file_extension": ".py",
   "mimetype": "text/x-python",
   "name": "python",
   "nbconvert_exporter": "python",
   "pygments_lexer": "ipython3",
   "version": "3.9.1"
  }
 },
 "nbformat": 4,
 "nbformat_minor": 4
}
